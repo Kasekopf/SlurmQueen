{
 "cells": [
  {
   "cell_type": "markdown",
   "metadata": {},
   "source": [
    "# Configuration\n",
    "First, we specify the Slurm server and login information:"
   ]
  },
  {
   "cell_type": "code",
   "execution_count": 1,
   "metadata": {},
   "outputs": [],
   "source": [
    "import slurmqueen\n",
    "\n",
    "nots = slurmqueen.SlurmServer('nots.rice.edu', 'jmd11', 'C:/Users/Jeffrey/.ssh/id_rsa')"
   ]
  },
  {
   "cell_type": "markdown",
   "metadata": {},
   "source": [
    "`nots.rice.edu` is the Slurm server to connect to. `jmd11` is the account to use on the server. `C:/Users/Jeffrey/.ssh/id_rsa` is an SSH private key used to connect with the server; the corresponding public key should be added to the Slurm server (see [here](https://adamdehaven.com/blog/how-to-generate-an-ssh-key-and-add-your-public-key-to-the-server-for-authentication/) for details on generation and use of SSH keys)."
   ]
  },
  {
   "cell_type": "markdown",
   "metadata": {},
   "source": [
    "Next, we choose a partition on the Slurm cluster (e.g. `commons`), a local directory on the current machine (e.g. `C:/Work/Projects/SlurmQueen/example`) and a remote directory on the Slurm cluster (e.g. `/scratch/jmd11/experiments/slurmqueen`). The remote directory should generally be in the scratch filesystem of the Slurm cluster if possible. These directories will be created when a job is started if they do not currently exist."
   ]
  },
  {
   "cell_type": "code",
   "execution_count": 2,
   "metadata": {},
   "outputs": [],
   "source": [
    "config = slurmqueen.ExperimentConfig(\n",
    "    server=nots,\n",
    "    partition='scavenge',\n",
    "    local_directory='C:/Work/Projects/SlurmQueen/example',\n",
    "    remote_directory='/scratch/jmd11/experiments/slurmqueen')"
   ]
  },
  {
   "cell_type": "markdown",
   "metadata": {},
   "source": [
    "# Defining an experiment"
   ]
  },
  {
   "cell_type": "markdown",
   "metadata": {},
   "source": [
    "When running many experiments on the same tool, it is convenient to define a subclass of ```SlurmExperiment``` to hold any additional server setup. The positional arguments to SlurmExperiment are, in order:\n",
    "1. A path (relative to ```local_directory``` and ```remote_directory```) where the input and output files for this experiment should be stored.\n",
    "2. The command to use to run the tool. In this case, ```example_tool.py``` is run through python.\n",
    "3. The list of tasks to execute for this experiment; see below.\n",
    "4. A list of file dependencies for this tool. Note that each can also be a Unix glob to capture multiple files. In this case, our example tool requires a single file to run: ```example_tool.py```.\n",
    "\n",
    "Our example tool requires Python 3 to be installed on the cluster. We satisfy this dependency by loading the ```Anaconda3/5.0.0``` module on the cluster before running the tool. The string passed to `setup_commands` is copied directly to the [script used to eventually submit the Slurm job](https://github.com/Kasekopf/SlurmQueen/blob/master/example/experiments/slurm_test_1/_run.sh), after pregenerated SBATCH arguments but before any tasks are executed. Custom arguments to `sbatch` can also be provided here, e.g. `#SBATCH --mem=0` to allow full use of the node memory.\n",
    "\n",
    "By default, everything written to stdout by the tool will be stored in a ```.out``` file and automatically parsed to be queried with SQL, while everything written to stderr by the tool will be stored in a ```.log``` file and not parsed. This behavior can be adjusted by including the optional arguments ```output_argument``` (defaults to ```'>>'``` indicating stdout) and ```log_argument``` (defaults to ```'2>'```, indicating stderr) when initializing the SlurmExperiment."
   ]
  },
  {
   "cell_type": "code",
   "execution_count": 3,
   "metadata": {},
   "outputs": [],
   "source": [
    "class SlurmTest(slurmqueen.SlurmExperiment):\n",
    "    def __init__(self, experiment_id, changing_args):\n",
    "        slurmqueen.SlurmExperiment.__init__(self, 'experiments/' + experiment_id, \n",
    "                                            'python3 example_tool.py',\n",
    "                                             changing_args,\n",
    "                                             dependencies=['example_tool.py'],\n",
    "                                             setup_commands=\"module load Anaconda3/5.0.0\")"
   ]
  },
  {
   "cell_type": "markdown",
   "metadata": {},
   "source": [
    "We can then define a single experiment on ```example_tool.py``` by providing a name for this experiment and a list of tasks. Each task is defined by a set of arguments, given by a dictionary of key/value pairs. These arguments are passed as arguments to the tools as ```--key=value``` arguments, with a few exceptions:\n",
    "* The key ```''```, if it exists, indicates a list of positional arguments (which are given in the provided order).\n",
    "* Keys that contain ```<``` or ```>``` are treated as shell redirections. For example, the pair ```'<': 'path/to/file'``` opens ```path/to/file``` as stdin.\n",
    "* Keys that begin with ```'|'``` are not passed to each task. Such keys can be used when processing results."
   ]
  },
  {
   "cell_type": "code",
   "execution_count": 4,
   "metadata": {},
   "outputs": [],
   "source": [
    "slurm_test_1 = SlurmTest('slurm_test_1',\n",
    "                         [{'': [chr(a+65) + chr(b+65)],\n",
    "                           'a': a, 'b': b,\n",
    "                           '|desc': '%d + %d' % (a, b)\n",
    "                          } for a in range(3) for b in range(3)])"
   ]
  },
  {
   "cell_type": "markdown",
   "metadata": {},
   "source": [
    "## Running an experiment\n",
    "\n",
    "Once we have defined an experiment and a configuration, we can run the experiment on the provided cluster in a single command. In this case, we run the 9 tasks using 2 Slurm workers (on two separate nodes in the cluster). Each worker is given a timeout of 5 minutes. The following command performs each of the following steps:\n",
    "1. Creates a set of 9 .in files in ```experiments/slurm_test_1/```, each defining a single task.\n",
    "2. Copies all .in files and all dependencies provided to the ```SlurmExperiment``` to the Slurm cluster (in ```remote_directory```)\n",
    "3. Generates an appropriate Slurm script to run all tasks on the provided number of workers (distributed in round-robin).\n",
    "4. Submits the Slurm job, returning the job id."
   ]
  },
  {
   "cell_type": "code",
   "execution_count": 5,
   "metadata": {},
   "outputs": [
    {
     "name": "stdout",
     "output_type": "stream",
     "text": [
      "Connected to nots.rice.edu\n",
      "Created 9 local files\n",
      "Compressed local files\n",
      "Copied files to remote server\n",
      "Attempting to submit job\n",
      "Submitted batch job 1053370\n",
      "\n"
     ]
    }
   ],
   "source": [
    "slurm_test_1.slurm_instance(config).run(2, '5:00')"
   ]
  },
  {
   "cell_type": "markdown",
   "metadata": {},
   "source": [
    "`run` also accepts an optional argument not shown here, `cpus_per_worker`, to indicate the number of cpus to request on the Slurm node allocated to each worker (default `1`)."
   ]
  },
  {
   "cell_type": "markdown",
   "metadata": {},
   "source": [
    "Once an experiment has finished running, we use a single additional command to download all results back to the local machine (and clean up the files on the cluster)."
   ]
  },
  {
   "cell_type": "code",
   "execution_count": 6,
   "metadata": {},
   "outputs": [
    {
     "name": "stdout",
     "output_type": "stream",
     "text": [
      "Experiment complete. Compressing and copying results.\n",
      "Deleting files from remote server: /scratch/jmd11/experiments/slurmqueen/experiments/slurm_test_1/\n"
     ]
    }
   ],
   "source": [
    "slurm_test_1.slurm_instance(config).complete()"
   ]
  },
  {
   "cell_type": "markdown",
   "metadata": {},
   "source": [
    "We can then use an SQL interface to query the results. All inputs and results appear in a table named `data`. The columns are all the named argument keys (`a`, `b`, and `|desc`), all the output keys (`Repeated Text` and `Sum`), and a column automatically generated by SlurmQueen (`file`, indicating the task id)."
   ]
  },
  {
   "cell_type": "code",
   "execution_count": 7,
   "metadata": {},
   "outputs": [
    {
     "data": {
      "text/html": [
       "<div>\n",
       "<style scoped>\n",
       "    .dataframe tbody tr th:only-of-type {\n",
       "        vertical-align: middle;\n",
       "    }\n",
       "\n",
       "    .dataframe tbody tr th {\n",
       "        vertical-align: top;\n",
       "    }\n",
       "\n",
       "    .dataframe thead th {\n",
       "        text-align: right;\n",
       "    }\n",
       "</style>\n",
       "<table border=\"1\" class=\"dataframe\">\n",
       "  <thead>\n",
       "    <tr style=\"text-align: right;\">\n",
       "      <th></th>\n",
       "      <th>Repeated Text</th>\n",
       "      <th>Sum</th>\n",
       "      <th>a</th>\n",
       "      <th>b</th>\n",
       "      <th>file</th>\n",
       "      <th>|desc</th>\n",
       "    </tr>\n",
       "  </thead>\n",
       "  <tbody>\n",
       "    <tr>\n",
       "      <th>0</th>\n",
       "      <td>AAAAAA</td>\n",
       "      <td>0</td>\n",
       "      <td>0</td>\n",
       "      <td>0</td>\n",
       "      <td>0</td>\n",
       "      <td>0 + 0</td>\n",
       "    </tr>\n",
       "    <tr>\n",
       "      <th>1</th>\n",
       "      <td>ABABAB</td>\n",
       "      <td>1</td>\n",
       "      <td>0</td>\n",
       "      <td>1</td>\n",
       "      <td>1</td>\n",
       "      <td>0 + 1</td>\n",
       "    </tr>\n",
       "    <tr>\n",
       "      <th>2</th>\n",
       "      <td>ACACAC</td>\n",
       "      <td>2</td>\n",
       "      <td>0</td>\n",
       "      <td>2</td>\n",
       "      <td>2</td>\n",
       "      <td>0 + 2</td>\n",
       "    </tr>\n",
       "    <tr>\n",
       "      <th>3</th>\n",
       "      <td>BABABA</td>\n",
       "      <td>1</td>\n",
       "      <td>1</td>\n",
       "      <td>0</td>\n",
       "      <td>3</td>\n",
       "      <td>1 + 0</td>\n",
       "    </tr>\n",
       "    <tr>\n",
       "      <th>4</th>\n",
       "      <td>BBBBBB</td>\n",
       "      <td>2</td>\n",
       "      <td>1</td>\n",
       "      <td>1</td>\n",
       "      <td>4</td>\n",
       "      <td>1 + 1</td>\n",
       "    </tr>\n",
       "    <tr>\n",
       "      <th>5</th>\n",
       "      <td>BCBCBC</td>\n",
       "      <td>3</td>\n",
       "      <td>1</td>\n",
       "      <td>2</td>\n",
       "      <td>5</td>\n",
       "      <td>1 + 2</td>\n",
       "    </tr>\n",
       "    <tr>\n",
       "      <th>6</th>\n",
       "      <td>CACACA</td>\n",
       "      <td>2</td>\n",
       "      <td>2</td>\n",
       "      <td>0</td>\n",
       "      <td>6</td>\n",
       "      <td>2 + 0</td>\n",
       "    </tr>\n",
       "    <tr>\n",
       "      <th>7</th>\n",
       "      <td>CBCBCB</td>\n",
       "      <td>3</td>\n",
       "      <td>2</td>\n",
       "      <td>1</td>\n",
       "      <td>7</td>\n",
       "      <td>2 + 1</td>\n",
       "    </tr>\n",
       "    <tr>\n",
       "      <th>8</th>\n",
       "      <td>CCCCCC</td>\n",
       "      <td>4</td>\n",
       "      <td>2</td>\n",
       "      <td>2</td>\n",
       "      <td>8</td>\n",
       "      <td>2 + 2</td>\n",
       "    </tr>\n",
       "  </tbody>\n",
       "</table>\n",
       "</div>"
      ],
      "text/plain": [
       "  Repeated Text  Sum  a  b  file  |desc\n",
       "0        AAAAAA    0  0  0     0  0 + 0\n",
       "1        ABABAB    1  0  1     1  0 + 1\n",
       "2        ACACAC    2  0  2     2  0 + 2\n",
       "3        BABABA    1  1  0     3  1 + 0\n",
       "4        BBBBBB    2  1  1     4  1 + 1\n",
       "5        BCBCBC    3  1  2     5  1 + 2\n",
       "6        CACACA    2  2  0     6  2 + 0\n",
       "7        CBCBCB    3  2  1     7  2 + 1\n",
       "8        CCCCCC    4  2  2     8  2 + 2"
      ]
     },
     "execution_count": 7,
     "metadata": {},
     "output_type": "execute_result"
    }
   ],
   "source": [
    "slurm_test_1.slurm_instance(config).query('SELECT * FROM data')"
   ]
  },
  {
   "cell_type": "markdown",
   "metadata": {},
   "source": [
    "## (Optional) Generating/Analyzing an experiment without a Slurm cluster.\n",
    "\n",
    "To aid in reproducability, an experiment can be generated and analyzed even without access to a Slurm cluster. In particular, the ```Experiment``` class (in ```experiment.py```) is sufficient to generate all ```*.in``` files and provide an SQL interface to results without requiring access to a Slurm cluster.\n",
    "\n",
    "We can define an experiment here purely as the command and set of arguments."
   ]
  },
  {
   "cell_type": "code",
   "execution_count": 8,
   "metadata": {},
   "outputs": [],
   "source": [
    "experiment_1 = slurmqueen.Experiment('python3 example_tool.py',\n",
    "                                     [{'': [chr(a+65) + chr(b+65)],\n",
    "                                       'a': a, 'b': b,\n",
    "                                       '|desc': '%d + %d' % (a, b)\n",
    "                                      } for a in range(3) for b in range(3)])"
   ]
  },
  {
   "cell_type": "markdown",
   "metadata": {},
   "source": [
    "We then only need to provide a local directory in order to generate all ```*.in``` files."
   ]
  },
  {
   "cell_type": "code",
   "execution_count": 9,
   "metadata": {},
   "outputs": [],
   "source": [
    "experiment_1.instance('experiments/slurm_test_1').setup()"
   ]
  },
  {
   "cell_type": "markdown",
   "metadata": {},
   "source": [
    "Each ```*.in``` file is a complete bash script that runs a single task and produces the corresponding ```.out``` file. Once all ```*.out``` files are computated separately or previously provided, the SQL interface can still be used to find the results."
   ]
  },
  {
   "cell_type": "code",
   "execution_count": 10,
   "metadata": {},
   "outputs": [
    {
     "data": {
      "text/html": [
       "<div>\n",
       "<style scoped>\n",
       "    .dataframe tbody tr th:only-of-type {\n",
       "        vertical-align: middle;\n",
       "    }\n",
       "\n",
       "    .dataframe tbody tr th {\n",
       "        vertical-align: top;\n",
       "    }\n",
       "\n",
       "    .dataframe thead th {\n",
       "        text-align: right;\n",
       "    }\n",
       "</style>\n",
       "<table border=\"1\" class=\"dataframe\">\n",
       "  <thead>\n",
       "    <tr style=\"text-align: right;\">\n",
       "      <th></th>\n",
       "      <th>Repeated Text</th>\n",
       "      <th>Sum</th>\n",
       "      <th>a</th>\n",
       "      <th>b</th>\n",
       "      <th>file</th>\n",
       "      <th>|desc</th>\n",
       "    </tr>\n",
       "  </thead>\n",
       "  <tbody>\n",
       "    <tr>\n",
       "      <th>0</th>\n",
       "      <td>BABABA</td>\n",
       "      <td>1</td>\n",
       "      <td>1</td>\n",
       "      <td>0</td>\n",
       "      <td>3</td>\n",
       "      <td>1 + 0</td>\n",
       "    </tr>\n",
       "    <tr>\n",
       "      <th>1</th>\n",
       "      <td>BBBBBB</td>\n",
       "      <td>2</td>\n",
       "      <td>1</td>\n",
       "      <td>1</td>\n",
       "      <td>4</td>\n",
       "      <td>1 + 1</td>\n",
       "    </tr>\n",
       "    <tr>\n",
       "      <th>2</th>\n",
       "      <td>BCBCBC</td>\n",
       "      <td>3</td>\n",
       "      <td>1</td>\n",
       "      <td>2</td>\n",
       "      <td>5</td>\n",
       "      <td>1 + 2</td>\n",
       "    </tr>\n",
       "  </tbody>\n",
       "</table>\n",
       "</div>"
      ],
      "text/plain": [
       "  Repeated Text  Sum  a  b  file  |desc\n",
       "0        BABABA    1  1  0     3  1 + 0\n",
       "1        BBBBBB    2  1  1     4  1 + 1\n",
       "2        BCBCBC    3  1  2     5  1 + 2"
      ]
     },
     "execution_count": 10,
     "metadata": {},
     "output_type": "execute_result"
    }
   ],
   "source": [
    "experiment_1.instance('experiments/slurm_test_1').query('SELECT * FROM data WHERE a=1')"
   ]
  }
 ],
 "metadata": {
  "kernelspec": {
   "display_name": "Python 3",
   "language": "python",
   "name": "python3"
  },
  "language_info": {
   "codemirror_mode": {
    "name": "ipython",
    "version": 3
   },
   "file_extension": ".py",
   "mimetype": "text/x-python",
   "name": "python",
   "nbconvert_exporter": "python",
   "pygments_lexer": "ipython3",
   "version": "3.7.7"
  }
 },
 "nbformat": 4,
 "nbformat_minor": 1
}
