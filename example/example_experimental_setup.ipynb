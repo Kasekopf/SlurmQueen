{
 "cells": [
  {
   "cell_type": "markdown",
   "metadata": {},
   "source": [
    "# Configuration\n",
    "First, we specify the SLURM server and login information:"
   ]
  },
  {
   "cell_type": "code",
   "execution_count": 1,
   "metadata": {},
   "outputs": [],
   "source": [
    "import dashboard\n",
    "davinci = dashboard.SLURMServer('davinci.rice.edu', 'jmd11', 'C:/Users/Jeffrey/.ssh/id_rsa')"
   ]
  },
  {
   "cell_type": "markdown",
   "metadata": {},
   "source": [
    "Next, we choose a local directory on the current machine and a remote directory on the SLURM cluster. Note these directories will be created (when a job is started) if they do not currently exist."
   ]
  },
  {
   "cell_type": "code",
   "execution_count": 2,
   "metadata": {},
   "outputs": [],
   "source": [
    "from slurm_experiment import ExperimentConfig\n",
    "config = ExperimentConfig(server=davinci,\n",
    "                          local_directory='C:/Work/Projects/SlurmQueen/example',\n",
    "                          remote_directory='/scratch/jmd11/experiments/slurmqueen')"
   ]
  },
  {
   "cell_type": "markdown",
   "metadata": {},
   "source": [
    "# Defining an experiment"
   ]
  },
  {
   "cell_type": "markdown",
   "metadata": {},
   "source": [
    "When running many experiments on the same tool, it is convenient to define a subclass of SlurmExperiment to hold any additional server setup."
   ]
  },
  {
   "cell_type": "code",
   "execution_count": 3,
   "metadata": {},
   "outputs": [],
   "source": [
    "from slurm_experiment import SlurmExperiment\n",
    "\n",
    "class SlurmTest(SlurmExperiment):\n",
    "    def __init__(self, experiment_id, changing_args):\n",
    "        SlurmExperiment.__init__(self, 'experiments/' + experiment_id, 'python example_tool.py', changing_args,\n",
    "                                 ['example_tool.py'],\n",
    "                                 setup_commands='\\n'.join([\"module load Anaconda3/5.0.0\"]))"
   ]
  },
  {
   "cell_type": "markdown",
   "metadata": {},
   "source": [
    "We can then define a single experiment on ```example_tool.py``` by providing a name for this experiment and a list of tasks. Each task is defined by a set of arguments, given by a dictionary of key/value pairs. These arguments are passed as arguments to the tools as ```--key=value``` arguments, with a few exceptions:\n",
    "* The key ```''```, if it exists, indicates a list of positional arguments (which are given in the provided order). \n",
    "* Keys that begin with ```'|'``` are not passed to each task. Such keys can be used when processing results."
   ]
  },
  {
   "cell_type": "code",
   "execution_count": 4,
   "metadata": {},
   "outputs": [],
   "source": [
    "slurm_test_1 = SlurmTest('slurm_test_1',\n",
    "                         [{'': [chr(a+65) + chr(b+65)],\n",
    "                           'a': a, 'b': b,\n",
    "                           '|desc': '%d + %d' % (a, b)\n",
    "                          } for a in range(3) for b in range(3)])"
   ]
  },
  {
   "cell_type": "markdown",
   "metadata": {},
   "source": [
    "## Running an experiment\n",
    "\n",
    "Once we have defined an experiment and a configuration, we can run the experiment on the provided cluster in a single command. In this case, we run the 9 tasks using 2 SLURM workers. Each worker is given a timeout of 5 minutes. The following command performs each of the following steps:\n",
    "1. Creates a set of 9 .in files in ```experiments/slurm_test_1/```, each defining a single task.\n",
    "2. Copies all .in files and all dependencies provided to the ```SlurmExperiment``` to the SLURM cluster, in the folder indicated in ```config```\n",
    "3. Generates an appropriate SLURM script to run all tasks on the provided number of workers (distributed in a round-robin way).\n",
    "4. Submits the SLURM job, returning the job id."
   ]
  },
  {
   "cell_type": "code",
   "execution_count": 5,
   "metadata": {},
   "outputs": [
    {
     "name": "stdout",
     "output_type": "stream",
     "text": [
      "Connected to davinci.rice.edu\n",
      "Created 9 local files\n",
      "Compressed local files\n",
      "Copied files to remote server\n",
      "Attempting to submit job\n",
      "Submitted batch job 4904649\n",
      "\n"
     ]
    }
   ],
   "source": [
    "slurm_test_1.slurm_instance(config).run(2, '5:00')"
   ]
  },
  {
   "cell_type": "markdown",
   "metadata": {},
   "source": [
    "Once an experiment has finished running, we use a single additional command to download all results back to the local machine (and clean up the files on the cluster)."
   ]
  },
  {
   "cell_type": "code",
   "execution_count": 6,
   "metadata": {},
   "outputs": [
    {
     "name": "stdout",
     "output_type": "stream",
     "text": [
      "Experiment complete. Compressing and copying results.\n",
      "Deleting files from remote server: /scratch/jmd11/experiments/slurmqueen/experiments/slurm_test_1/\n"
     ]
    }
   ],
   "source": [
    "slurm_test_1.slurm_instance(config).complete()"
   ]
  },
  {
   "cell_type": "markdown",
   "metadata": {},
   "source": [
    "We can then use an SQL interface to query the results."
   ]
  },
  {
   "cell_type": "code",
   "execution_count": 7,
   "metadata": {},
   "outputs": [
    {
     "name": "stdout",
     "output_type": "stream",
     "text": [
      "Reading all output data into SQL table\n"
     ]
    },
    {
     "data": {
      "text/html": [
       "<div>\n",
       "<style scoped>\n",
       "    .dataframe tbody tr th:only-of-type {\n",
       "        vertical-align: middle;\n",
       "    }\n",
       "\n",
       "    .dataframe tbody tr th {\n",
       "        vertical-align: top;\n",
       "    }\n",
       "\n",
       "    .dataframe thead th {\n",
       "        text-align: right;\n",
       "    }\n",
       "</style>\n",
       "<table border=\"1\" class=\"dataframe\">\n",
       "  <thead>\n",
       "    <tr style=\"text-align: right;\">\n",
       "      <th></th>\n",
       "      <th>Repeated Text</th>\n",
       "      <th>Sum</th>\n",
       "      <th>a</th>\n",
       "      <th>b</th>\n",
       "      <th>file</th>\n",
       "      <th>output</th>\n",
       "      <th>|desc</th>\n",
       "    </tr>\n",
       "  </thead>\n",
       "  <tbody>\n",
       "    <tr>\n",
       "      <th>0</th>\n",
       "      <td>AAAAAA</td>\n",
       "      <td>0</td>\n",
       "      <td>0</td>\n",
       "      <td>0</td>\n",
       "      <td>0</td>\n",
       "      <td>./0.out</td>\n",
       "      <td>0 + 0</td>\n",
       "    </tr>\n",
       "    <tr>\n",
       "      <th>1</th>\n",
       "      <td>ABABAB</td>\n",
       "      <td>1</td>\n",
       "      <td>0</td>\n",
       "      <td>1</td>\n",
       "      <td>1</td>\n",
       "      <td>./1.out</td>\n",
       "      <td>0 + 1</td>\n",
       "    </tr>\n",
       "    <tr>\n",
       "      <th>2</th>\n",
       "      <td>ACACAC</td>\n",
       "      <td>2</td>\n",
       "      <td>0</td>\n",
       "      <td>2</td>\n",
       "      <td>2</td>\n",
       "      <td>./2.out</td>\n",
       "      <td>0 + 2</td>\n",
       "    </tr>\n",
       "    <tr>\n",
       "      <th>3</th>\n",
       "      <td>BABABA</td>\n",
       "      <td>1</td>\n",
       "      <td>1</td>\n",
       "      <td>0</td>\n",
       "      <td>3</td>\n",
       "      <td>./3.out</td>\n",
       "      <td>1 + 0</td>\n",
       "    </tr>\n",
       "    <tr>\n",
       "      <th>4</th>\n",
       "      <td>BBBBBB</td>\n",
       "      <td>2</td>\n",
       "      <td>1</td>\n",
       "      <td>1</td>\n",
       "      <td>4</td>\n",
       "      <td>./4.out</td>\n",
       "      <td>1 + 1</td>\n",
       "    </tr>\n",
       "    <tr>\n",
       "      <th>5</th>\n",
       "      <td>BCBCBC</td>\n",
       "      <td>3</td>\n",
       "      <td>1</td>\n",
       "      <td>2</td>\n",
       "      <td>5</td>\n",
       "      <td>./5.out</td>\n",
       "      <td>1 + 2</td>\n",
       "    </tr>\n",
       "    <tr>\n",
       "      <th>6</th>\n",
       "      <td>CACACA</td>\n",
       "      <td>2</td>\n",
       "      <td>2</td>\n",
       "      <td>0</td>\n",
       "      <td>6</td>\n",
       "      <td>./6.out</td>\n",
       "      <td>2 + 0</td>\n",
       "    </tr>\n",
       "    <tr>\n",
       "      <th>7</th>\n",
       "      <td>CBCBCB</td>\n",
       "      <td>3</td>\n",
       "      <td>2</td>\n",
       "      <td>1</td>\n",
       "      <td>7</td>\n",
       "      <td>./7.out</td>\n",
       "      <td>2 + 1</td>\n",
       "    </tr>\n",
       "    <tr>\n",
       "      <th>8</th>\n",
       "      <td>CCCCCC</td>\n",
       "      <td>4</td>\n",
       "      <td>2</td>\n",
       "      <td>2</td>\n",
       "      <td>8</td>\n",
       "      <td>./8.out</td>\n",
       "      <td>2 + 2</td>\n",
       "    </tr>\n",
       "  </tbody>\n",
       "</table>\n",
       "</div>"
      ],
      "text/plain": [
       "  Repeated Text  Sum  a  b  file   output  |desc\n",
       "0        AAAAAA    0  0  0     0  ./0.out  0 + 0\n",
       "1        ABABAB    1  0  1     1  ./1.out  0 + 1\n",
       "2        ACACAC    2  0  2     2  ./2.out  0 + 2\n",
       "3        BABABA    1  1  0     3  ./3.out  1 + 0\n",
       "4        BBBBBB    2  1  1     4  ./4.out  1 + 1\n",
       "5        BCBCBC    3  1  2     5  ./5.out  1 + 2\n",
       "6        CACACA    2  2  0     6  ./6.out  2 + 0\n",
       "7        CBCBCB    3  2  1     7  ./7.out  2 + 1\n",
       "8        CCCCCC    4  2  2     8  ./8.out  2 + 2"
      ]
     },
     "execution_count": 7,
     "metadata": {},
     "output_type": "execute_result"
    }
   ],
   "source": [
    "slurm_test_1.slurm_instance(config).query('SELECT * FROM data')"
   ]
  },
  {
   "cell_type": "markdown",
   "metadata": {},
   "source": [
    "## (Optional) Generating and analyzing an experiment without a SLURM cluster.\n",
    "\n",
    "To aid in reproducability, an experiment can be generated and analyzed even without access to a SLURM cluster. In particular, the code in ```experiment.py``` is sufficient to generate all ```*.in``` files and provide an SQL interface to results.\n",
    "\n",
    "We can define an experiment here purely as the command and set of arguments."
   ]
  },
  {
   "cell_type": "code",
   "execution_count": 8,
   "metadata": {},
   "outputs": [],
   "source": [
    "from experiment import Experiment\n",
    "\n",
    "experiment_1 = Experiment('python example_tool.py',\n",
    "                          [{'': [chr(a+65) + chr(b+65)],\n",
    "                            'a': a, 'b': b,\n",
    "                            '|desc': '%d + %d' % (a, b)\n",
    "                           } for a in range(3) for b in range(3)])"
   ]
  },
  {
   "cell_type": "markdown",
   "metadata": {},
   "source": [
    "We then only need to provide a local directory in order to generate all ```*.in``` files."
   ]
  },
  {
   "cell_type": "code",
   "execution_count": 9,
   "metadata": {},
   "outputs": [],
   "source": [
    "experiment_1.instance('experiments/slurm_test_1').setup()"
   ]
  },
  {
   "cell_type": "markdown",
   "metadata": {},
   "source": [
    "Each ```*.in``` file is a complete bash script that runs a single task and produces the corresponding ```.out``` files. Once these ```.out``` files are computated separately or previously provided, the SQL interface can still be used to find the results."
   ]
  },
  {
   "cell_type": "code",
   "execution_count": 10,
   "metadata": {},
   "outputs": [
    {
     "data": {
      "text/html": [
       "<div>\n",
       "<style scoped>\n",
       "    .dataframe tbody tr th:only-of-type {\n",
       "        vertical-align: middle;\n",
       "    }\n",
       "\n",
       "    .dataframe tbody tr th {\n",
       "        vertical-align: top;\n",
       "    }\n",
       "\n",
       "    .dataframe thead th {\n",
       "        text-align: right;\n",
       "    }\n",
       "</style>\n",
       "<table border=\"1\" class=\"dataframe\">\n",
       "  <thead>\n",
       "    <tr style=\"text-align: right;\">\n",
       "      <th></th>\n",
       "      <th>Repeated Text</th>\n",
       "      <th>Sum</th>\n",
       "      <th>a</th>\n",
       "      <th>b</th>\n",
       "      <th>file</th>\n",
       "      <th>output</th>\n",
       "      <th>|desc</th>\n",
       "    </tr>\n",
       "  </thead>\n",
       "  <tbody>\n",
       "    <tr>\n",
       "      <th>0</th>\n",
       "      <td>AAAAAA</td>\n",
       "      <td>0</td>\n",
       "      <td>0</td>\n",
       "      <td>0</td>\n",
       "      <td>0</td>\n",
       "      <td>./0.out</td>\n",
       "      <td>0 + 0</td>\n",
       "    </tr>\n",
       "    <tr>\n",
       "      <th>1</th>\n",
       "      <td>ABABAB</td>\n",
       "      <td>1</td>\n",
       "      <td>0</td>\n",
       "      <td>1</td>\n",
       "      <td>1</td>\n",
       "      <td>./1.out</td>\n",
       "      <td>0 + 1</td>\n",
       "    </tr>\n",
       "    <tr>\n",
       "      <th>2</th>\n",
       "      <td>ACACAC</td>\n",
       "      <td>2</td>\n",
       "      <td>0</td>\n",
       "      <td>2</td>\n",
       "      <td>2</td>\n",
       "      <td>./2.out</td>\n",
       "      <td>0 + 2</td>\n",
       "    </tr>\n",
       "    <tr>\n",
       "      <th>3</th>\n",
       "      <td>BABABA</td>\n",
       "      <td>1</td>\n",
       "      <td>1</td>\n",
       "      <td>0</td>\n",
       "      <td>3</td>\n",
       "      <td>./3.out</td>\n",
       "      <td>1 + 0</td>\n",
       "    </tr>\n",
       "    <tr>\n",
       "      <th>4</th>\n",
       "      <td>BBBBBB</td>\n",
       "      <td>2</td>\n",
       "      <td>1</td>\n",
       "      <td>1</td>\n",
       "      <td>4</td>\n",
       "      <td>./4.out</td>\n",
       "      <td>1 + 1</td>\n",
       "    </tr>\n",
       "    <tr>\n",
       "      <th>5</th>\n",
       "      <td>BCBCBC</td>\n",
       "      <td>3</td>\n",
       "      <td>1</td>\n",
       "      <td>2</td>\n",
       "      <td>5</td>\n",
       "      <td>./5.out</td>\n",
       "      <td>1 + 2</td>\n",
       "    </tr>\n",
       "    <tr>\n",
       "      <th>6</th>\n",
       "      <td>CACACA</td>\n",
       "      <td>2</td>\n",
       "      <td>2</td>\n",
       "      <td>0</td>\n",
       "      <td>6</td>\n",
       "      <td>./6.out</td>\n",
       "      <td>2 + 0</td>\n",
       "    </tr>\n",
       "    <tr>\n",
       "      <th>7</th>\n",
       "      <td>CBCBCB</td>\n",
       "      <td>3</td>\n",
       "      <td>2</td>\n",
       "      <td>1</td>\n",
       "      <td>7</td>\n",
       "      <td>./7.out</td>\n",
       "      <td>2 + 1</td>\n",
       "    </tr>\n",
       "    <tr>\n",
       "      <th>8</th>\n",
       "      <td>CCCCCC</td>\n",
       "      <td>4</td>\n",
       "      <td>2</td>\n",
       "      <td>2</td>\n",
       "      <td>8</td>\n",
       "      <td>./8.out</td>\n",
       "      <td>2 + 2</td>\n",
       "    </tr>\n",
       "  </tbody>\n",
       "</table>\n",
       "</div>"
      ],
      "text/plain": [
       "  Repeated Text  Sum  a  b  file   output  |desc\n",
       "0        AAAAAA    0  0  0     0  ./0.out  0 + 0\n",
       "1        ABABAB    1  0  1     1  ./1.out  0 + 1\n",
       "2        ACACAC    2  0  2     2  ./2.out  0 + 2\n",
       "3        BABABA    1  1  0     3  ./3.out  1 + 0\n",
       "4        BBBBBB    2  1  1     4  ./4.out  1 + 1\n",
       "5        BCBCBC    3  1  2     5  ./5.out  1 + 2\n",
       "6        CACACA    2  2  0     6  ./6.out  2 + 0\n",
       "7        CBCBCB    3  2  1     7  ./7.out  2 + 1\n",
       "8        CCCCCC    4  2  2     8  ./8.out  2 + 2"
      ]
     },
     "execution_count": 10,
     "metadata": {},
     "output_type": "execute_result"
    }
   ],
   "source": [
    "experiment_1.instance('experiments/slurm_test_1').query('SELECT * FROM data')"
   ]
  }
 ],
 "metadata": {
  "kernelspec": {
   "display_name": "Python 3",
   "language": "python",
   "name": "python3"
  },
  "language_info": {
   "codemirror_mode": {
    "name": "ipython",
    "version": 3
   },
   "file_extension": ".py",
   "mimetype": "text/x-python",
   "name": "python",
   "nbconvert_exporter": "python",
   "pygments_lexer": "ipython3",
   "version": "3.7.0"
  }
 },
 "nbformat": 4,
 "nbformat_minor": 1
}
